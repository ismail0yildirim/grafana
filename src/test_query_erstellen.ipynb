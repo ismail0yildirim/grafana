{
 "cells": [
  {
   "cell_type": "code",
   "execution_count": 20,
   "metadata": {},
   "outputs": [],
   "source": [
    "import pandas as pd\n",
    "\n"
   ]
  },
  {
   "cell_type": "code",
   "execution_count": 21,
   "metadata": {},
   "outputs": [
    {
     "name": "stdout",
     "output_type": "stream",
     "text": [
      "                                                   data\n",
      "0     C-N3083543_20210302145015_Volume_(X1)_00000001...\n",
      "1     C-N3349438_20210303160416_Volume_(X1)_00000000...\n",
      "2     C-N3347199_20210303161125_Volume_(X1)_00000000...\n",
      "3     C-N3349121_20210303162344_Volume_(X1)_00000001...\n",
      "4     C-N3345215_20210303164134_Volume_(X1)_00000000...\n",
      "...                                                 ...\n",
      "6432  C-PDNP5629_20221219105514_Volume_(X2)_00000000...\n",
      "6433  C-PDNP5629_20221219105514_Volume_(X1)_00000001...\n",
      "6434  C-PDNQ3412_20221219105557_Volume_(X2)_00000000...\n",
      "6435  C-PDNQ3412_20221219105557_Volume_(X1)_00000000...\n",
      "6436  C-PDQ57088_20221220145118_Volume_(X1)_00000000...\n",
      "\n",
      "[6437 rows x 1 columns]\n"
     ]
    }
   ],
   "source": [
    "path = r\"C:\\Users\\Z004KVJF\\Desktop\\missing_data_in_postgres.csv\"\n",
    "\n",
    "data_df = pd.read_csv(path)\n",
    "\n",
    "data_list=data_df.values.tolist()\n",
    "\n",
    "print(data_df)"
   ]
  },
  {
   "cell_type": "code",
   "execution_count": 22,
   "metadata": {},
   "outputs": [
    {
     "name": "stdout",
     "output_type": "stream",
     "text": [
      "or name='C-PDQ57088_20221220145118_Volume_(X1)_0000000096_0000050766.jpg'\n",
      "         SELECT * FROM xraydb.board_pred where (name=''\n",
      "0     or name='C-N3083543_20210302145015_Volume_(X1)...\n",
      "1     or name='C-N3349438_20210303160416_Volume_(X1)...\n",
      "2     or name='C-N3347199_20210303161125_Volume_(X1)...\n",
      "3     or name='C-N3349121_20210303162344_Volume_(X1)...\n",
      "4     or name='C-N3345215_20210303164134_Volume_(X1)...\n",
      "...                                                 ...\n",
      "6433  or name='C-PDNP5629_20221219105514_Volume_(X1)...\n",
      "6434  or name='C-PDNQ3412_20221219105557_Volume_(X2)...\n",
      "6435  or name='C-PDNQ3412_20221219105557_Volume_(X1)...\n",
      "6436  or name='C-PDQ57088_20221220145118_Volume_(X1)...\n",
      "6437                                                  )\n",
      "\n",
      "[6438 rows x 1 columns]\n"
     ]
    }
   ],
   "source": [
    "query = []\n",
    "for i in range(len(data_list)):\n",
    "    string = f\"or name='{data_list[i][0]}'\"\n",
    "    query.append(string)\n",
    "query.append(\")\")\n",
    "query_df = pd.DataFrame(query, columns =[\"SELECT * FROM xraydb.board_pred where (name=''\"])\n",
    "\n",
    "print(string)\n",
    "print(query_df)"
   ]
  },
  {
   "cell_type": "code",
   "execution_count": 23,
   "metadata": {},
   "outputs": [],
   "source": [
    "path_save = r\"C:\\Users\\Z004KVJF\\Desktop\\query_missing_data_in_postgres.csv\"\n",
    "query_df.to_csv(path_save, index=False, header=True)"
   ]
  }
 ],
 "metadata": {
  "kernelspec": {
   "display_name": "env_app",
   "language": "python",
   "name": "python3"
  },
  "language_info": {
   "codemirror_mode": {
    "name": "ipython",
    "version": 3
   },
   "file_extension": ".py",
   "mimetype": "text/x-python",
   "name": "python",
   "nbconvert_exporter": "python",
   "pygments_lexer": "ipython3",
   "version": "3.9.1"
  },
  "orig_nbformat": 4,
  "vscode": {
   "interpreter": {
    "hash": "fb35bd573f5a8ba3ad78591e95196bd1408e41d1ef86ff9a2379e900a93ab010"
   }
  }
 },
 "nbformat": 4,
 "nbformat_minor": 2
}
