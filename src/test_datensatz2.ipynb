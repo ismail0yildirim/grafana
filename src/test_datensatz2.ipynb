{
 "cells": [
  {
   "cell_type": "code",
   "execution_count": 32,
   "metadata": {},
   "outputs": [],
   "source": [
    "import os"
   ]
  },
  {
   "cell_type": "code",
   "execution_count": 33,
   "metadata": {},
   "outputs": [],
   "source": [
    "iO_directory = r'C:\\Users\\Z004KVJF\\Desktop\\Pseudo_Datensatz_TUD\\iO'\n",
    "niO_directory = r'C:\\Users\\Z004KVJF\\Desktop\\Pseudo_Datensatz_TUD\\niO'"
   ]
  },
  {
   "cell_type": "code",
   "execution_count": 34,
   "metadata": {},
   "outputs": [],
   "source": [
    "iO = os.listdir(iO_directory)\n",
    "# print(iO)\n",
    "niO = os.listdir(niO_directory)"
   ]
  },
  {
   "cell_type": "code",
   "execution_count": 35,
   "metadata": {},
   "outputs": [],
   "source": [
    "# for i in range(len(iO)):\n",
    "#     # print(iO[i])\n",
    "#     new_name = f\"iO_{i+1}.jpg\"\n",
    "#     old_file = os.path.join(iO_directory, iO[i])\n",
    "#     new_file = os.path.join(iO_directory, new_name)\n",
    "#     os.rename(old_file, new_file)\n",
    "\n",
    "\n",
    "for i in range(len(niO)):\n",
    "    # print(niO[i])\n",
    "    new_name = f\"niO_{i+1}.jpg\"\n",
    "    old_file = os.path.join(niO_directory, niO[i])\n",
    "    new_file = os.path.join(niO_directory, new_name)\n",
    "    os.rename(old_file, new_file)\n"
   ]
  }
 ],
 "metadata": {
  "kernelspec": {
   "display_name": "env_app",
   "language": "python",
   "name": "python3"
  },
  "language_info": {
   "codemirror_mode": {
    "name": "ipython",
    "version": 3
   },
   "file_extension": ".py",
   "mimetype": "text/x-python",
   "name": "python",
   "nbconvert_exporter": "python",
   "pygments_lexer": "ipython3",
   "version": "3.9.1"
  },
  "orig_nbformat": 4
 },
 "nbformat": 4,
 "nbformat_minor": 2
}
